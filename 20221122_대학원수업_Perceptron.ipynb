{
  "nbformat": 4,
  "nbformat_minor": 0,
  "metadata": {
    "colab": {
      "provenance": [],
      "authorship_tag": "ABX9TyMzjk+Sk5AUZGfJVHwpcb1d",
      "include_colab_link": true
    },
    "kernelspec": {
      "name": "python3",
      "display_name": "Python 3"
    },
    "language_info": {
      "name": "python"
    }
  },
  "cells": [
    {
      "cell_type": "markdown",
      "metadata": {
        "id": "view-in-github",
        "colab_type": "text"
      },
      "source": [
        "<a href=\"https://colab.research.google.com/github/yeop94/2022--AI_Dnue/blob/main/20221122_%EB%8C%80%ED%95%99%EC%9B%90%EC%88%98%EC%97%85_Perceptron.ipynb\" target=\"_parent\"><img src=\"https://colab.research.google.com/assets/colab-badge.svg\" alt=\"Open In Colab\"/></a>"
      ]
    },
    {
      "cell_type": "markdown",
      "source": [
        "### 데이터에 라벨이 다 붙어있으므로 지도학습임. \n",
        "### single perceptron ---> input layer - hidden layer - output layer\n",
        "### dot product(두 점의 곱, 내적)\n"
      ],
      "metadata": {
        "id": "ZLmmvaPomRs5"
      }
    },
    {
      "cell_type": "code",
      "execution_count": 1,
      "metadata": {
        "colab": {
          "base_uri": "https://localhost:8080/"
        },
        "id": "y_XQtbQ-mRZ3",
        "outputId": "363329aa-134b-4c2a-c836-5118c2aedcd4"
      },
      "outputs": [
        {
          "output_type": "stream",
          "name": "stdout",
          "text": [
            "[PerceptronClassifier-01-Data.py:210326:#1] (Perceptron Classifier) Read Data >> \n",
            "\n",
            "test;  A\n",
            "Data counts= 20\n",
            "###########  END OF PROGRAM   ############\n"
          ]
        }
      ],
      "source": [
        "\n",
        "#@@@@@@@@@@@@@@@@@@@@@@@@@@@@@@@@@@@@@@@@@@@@\n",
        "\n",
        "print(\"[PerceptronClassifier-01-Data.py:210326:#1] (Perceptron Classifier) Read Data >> \")\n",
        "input()\n",
        "      # [x1Val, x2Val, Label]\n",
        "Dat = [ [-8,1,'B'],  [-6,-1,'B'], [-5,-3,'B'], [-5,3,'B'], [-3,-2,'B'],\n",
        "        [-2,-1,'B'], [-2,2,'B'],  [0,-3,'B'],  [2,-2,'B'], [3,7,'A'],\n",
        "        [4,-4,'B'],  [4,9,'A'],   [6,4,'A'],   [6,8,'A'],  [7,-1,'A'],\n",
        "        [8,2,'A'],   [9,4,'A'],   [10,-5,'A'], [12,1,'A'], [13,3,'A']\n",
        "      ]\n",
        "\n",
        "print(\"test; \",Dat[19][2])    # 'A'\n",
        "print(\"Data counts=\",len(Dat))\n",
        "print(\"###########  END OF PROGRAM   ############\")\n",
        "\n",
        "#//"
      ]
    },
    {
      "cell_type": "code",
      "source": [],
      "metadata": {
        "id": "ZR2lfw2eAEy3"
      },
      "execution_count": null,
      "outputs": []
    }
  ]
}