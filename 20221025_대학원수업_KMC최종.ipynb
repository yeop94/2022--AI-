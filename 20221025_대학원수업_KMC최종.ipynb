{
  "nbformat": 4,
  "nbformat_minor": 0,
  "metadata": {
    "colab": {
      "provenance": [],
      "authorship_tag": "ABX9TyNPxPITco/sKPJNUgUf/rz3",
      "include_colab_link": true
    },
    "kernelspec": {
      "name": "python3",
      "display_name": "Python 3"
    },
    "language_info": {
      "name": "python"
    }
  },
  "cells": [
    {
      "cell_type": "markdown",
      "metadata": {
        "id": "view-in-github",
        "colab_type": "text"
      },
      "source": [
        "<a href=\"https://colab.research.google.com/github/yeop94/2022--AI-/blob/main/20221025_%EB%8C%80%ED%95%99%EC%9B%90%EC%88%98%EC%97%85_KMC%EC%B5%9C%EC%A2%85.ipynb\" target=\"_parent\"><img src=\"https://colab.research.google.com/assets/colab-badge.svg\" alt=\"Open In Colab\"/></a>"
      ]
    },
    {
      "cell_type": "markdown",
      "source": [
        "# 두 그룹을 최적의 그룹이 되도록 만들기\n",
        "## 1. 각 점에서 P 점과 Q점까지 거리의 합 = disTot가 가장 최소일때가 가장 최적의 P,Q그룹일 것이다.\n",
        "## 2. 문제 = 그럼 대체 몇번 실행시켜야 믿을만할 수 있을까? 무한정 반복해야하나?\n",
        "##"
      ],
      "metadata": {
        "id": "fe3mXo5wdnZo"
      }
    },
    {
      "cell_type": "code",
      "execution_count": 7,
      "metadata": {
        "colab": {
          "base_uri": "https://localhost:8080/"
        },
        "id": "P1s3eSmddgTx",
        "outputId": "15344250-9815-4564-ba82-e8b893deeee7"
      },
      "outputs": [
        {
          "output_type": "stream",
          "name": "stdout",
          "text": [
            "KMC-04-Iter >> \n",
            "r1= 2  r2= 12\n",
            "\n",
            "P=( 125 , 40 )\n",
            "Q=( 136 , 42 )\n",
            "Iter= 1   --------------------------------------------------\n",
            "  ; GroupP= [0, 1, 2, 3]  GroupQ= [4, 5, 6, 7, 8, 9, 10, 11, 12, 13, 14, 15, 16]\n",
            "avgPh= 125.5  avgPw= 40.2\n",
            "avgQh= 134.8  avgQw= 42.0\n",
            "Iter= 2   --------------------------------------------------\n",
            "  ; GroupP= [0, 1, 2]  GroupQ= [3, 4, 5, 6, 7, 8, 9, 10, 11, 12, 13, 14, 15, 16]\n",
            "avgPh= 124.0  avgPw= 39.7\n",
            "avgQh= 134.4  avgQw= 42.0\n",
            "Iter= 3   --------------------------------------------------\n",
            "  ; GroupP= [0, 1, 2]  GroupQ= [3, 4, 5, 6, 7, 8, 9, 10, 11, 12, 13, 14, 15, 16]\n",
            "disTot =  50.14\n",
            "###########  END OF PROGRAM   ############\n"
          ]
        }
      ],
      "source": [
        "\n",
        "import random  # randint()\n",
        "import math     # sqrt() \n",
        "\n",
        "print(\"KMC-04-Iter >> \")\n",
        "     #KMC-01a. Height, Weight Data\n",
        "Dat = [ [122, 38],    #0\n",
        "        [125, 41],    #1\n",
        "        [125, 40],    #2\n",
        "        [130, 42],    #3\n",
        "        [131, 40],    #4\n",
        "        [132, 41],    #5\n",
        "        [132, 45],    #6\n",
        "        [133, 39],    #7\n",
        "        [133, 44],    #8\n",
        "        [133, 42],    #9\n",
        "        [134, 40],    #10\n",
        "        [135, 40],    #11\n",
        "        [136, 42],    #12\n",
        "        [137, 41],    #13\n",
        "        [137, 44],    #14\n",
        "        [139, 43],    #15\n",
        "        [140, 45]  ]  #16\n",
        "\n",
        "  #KMC-01b. r1, r2; two random numbers\n",
        "r1 = random.randint(0,16)\n",
        "r2 = random.randint(0,16)\n",
        "while (r1==r2):\n",
        "    r2 = random.randint(0,16)\n",
        "#while\n",
        "#r1 = 8\n",
        "#r2 = 7\n",
        "print(\"r1=\",r1,\" r2=\",r2)     # 8, 7\n",
        "input()\n",
        "\n",
        "  #KMC-01c. P, Q; two data pts of Dat[]\n",
        "  # (Ph,Pw), (Qh,Qw)\n",
        "Ph = Dat[r1][0]          \n",
        "Pw = Dat[r1][1] \n",
        "Qh = Dat[r2][0]          \n",
        "Qw = Dat[r2][1]\n",
        "print(\"P=(\",Ph,\",\",Pw,\")\")      # P; [133, 44] ; 8th row\n",
        "print(\"Q=(\",Qh,\",\",Qw,\")\")     # Q; [133, 39] ; 7th row\n",
        "\n",
        "###### Iter starts\n",
        "iter = 0\n",
        "OldGroupP = []\n",
        "while (1):             # outermost iter\n",
        "  disTot = 0.0\n",
        "  iter += 1\n",
        "  print(\"Iter=\",iter,\"  --------------------------------------------------\")\n",
        "  #input()\n",
        "      # KMC-02. Distance \n",
        "  nDat = len(Dat)    # 17\n",
        "  GroupP = []\n",
        "  GroupQ = []\n",
        "\n",
        "  for i in range(0,nDat):    # i=0,1,2,...,16\n",
        "    Dh = Dat[i][0]    # i-th row, 0-th col \n",
        "    Dw = Dat[i][1]   # i-th row, 0-th col\n",
        "    distP = math.sqrt((Ph-Dh)**2+(Pw-Dw)**2)\n",
        "    distQ = math.sqrt((Qh-Dh)**2+(Qw-Dw)**2)\n",
        "    #print(\"Iter=\",i,\": (Dh,Dw)=(\",Dh,\",\",Dw,\")\")\n",
        "    #print(\"Iter=\",i,\": distP=\",round(distP,2),\" distQ=\",round(distQ,2))\n",
        "    #input()\n",
        "           # distP < distQ\n",
        "    if (distP < distQ):\n",
        "        #print(\"distP is shorter than distQ\")\n",
        "        GroupP.append(i)\n",
        "        disTot += distP\n",
        "    else: \n",
        "        #print(\"distQ is shorter than distP\")\n",
        "        GroupQ.append(i)\n",
        "        disTot += distQ\n",
        "    #if\n",
        "    #print(\"  ; GroupP=\",GroupP,\" GroupQ=\",GroupQ)\n",
        "    #input()\n",
        "  #for.i\n",
        "\n",
        "  print(\"  ; GroupP=\",GroupP,\" GroupQ=\",GroupQ)\n",
        "  #input()\n",
        "\n",
        "      # 04. Terminal condition \n",
        "  if (GroupP == OldGroupP):\n",
        "      break\n",
        "  #if\n",
        "  OldGroupP = GroupP\n",
        "\n",
        "  sumPh = 0\n",
        "  sumPw = 0\n",
        "  for p in GroupP:\n",
        "    sumPh += Dat[p][0]    # sum of heights\n",
        "    sumPw += Dat[p][1]   # sum of weights\n",
        "  #for.p\n",
        "  avgPh = sumPh / len(GroupP)\n",
        "  avgPw = sumPw / len(GroupP)\n",
        "  print(\"avgPh=\",round(avgPh,1),\" avgPw=\",round(avgPw,1))\n",
        "  #input()\n",
        "\n",
        "  sumQh = 0\n",
        "  sumQw = 0\n",
        "  for q in GroupQ:\n",
        "    sumQh += Dat[q][0]    # sum of heights\n",
        "    sumQw += Dat[q][1]   # sum of weights\n",
        "  #for.q\n",
        "  avgQh = sumQh / len(GroupQ)\n",
        "  avgQw = sumQw / len(GroupQ)\n",
        "  print(\"avgQh=\",round(avgQh,1),\" avgQw=\",round(avgQw,1))\n",
        "  #input()\n",
        "             # 04. new centroids \n",
        "  Ph = avgPh\n",
        "  Pw = avgPw\n",
        "  Qh = avgQh\n",
        "  Qw = avgQw\n",
        "  #while.1\n",
        "print(\"disTot = \",round(disTot,2))\n",
        "\n",
        "print(\"###########  END OF PROGRAM   ############\")\n"
      ]
    },
    {
      "cell_type": "markdown",
      "source": [
        "# 백만회를 랜덤 r1,r2값을 설정해본 결과 disTot값은 50.14가 최소값이었다."
      ],
      "metadata": {
        "id": "Y5FhctelgS7f"
      }
    },
    {
      "cell_type": "code",
      "source": [
        "\n"
      ],
      "metadata": {
        "id": "YYCsOryLd8-g"
      },
      "execution_count": 5,
      "outputs": []
    }
  ]
}