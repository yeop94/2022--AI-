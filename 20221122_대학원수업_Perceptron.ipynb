{
  "nbformat": 4,
  "nbformat_minor": 0,
  "metadata": {
    "colab": {
      "provenance": [],
      "authorship_tag": "ABX9TyNdfNlpc0Vyg6Yhv5xRpQDE",
      "include_colab_link": true
    },
    "kernelspec": {
      "name": "python3",
      "display_name": "Python 3"
    },
    "language_info": {
      "name": "python"
    }
  },
  "cells": [
    {
      "cell_type": "markdown",
      "metadata": {
        "id": "view-in-github",
        "colab_type": "text"
      },
      "source": [
        "<a href=\"https://colab.research.google.com/github/yeop94/2022--AI_Dnue/blob/main/20221122_%EB%8C%80%ED%95%99%EC%9B%90%EC%88%98%EC%97%85_Perceptron.ipynb\" target=\"_parent\"><img src=\"https://colab.research.google.com/assets/colab-badge.svg\" alt=\"Open In Colab\"/></a>"
      ]
    },
    {
      "cell_type": "markdown",
      "source": [
        "### 데이터에 라벨이 다 붙어있으므로 지도학습임. \n",
        "### single perceptron ---> input layer - hidden layer - output layer\n",
        "### dot product(두 점의 곱, 내적)\n"
      ],
      "metadata": {
        "id": "ZLmmvaPomRs5"
      }
    },
    {
      "cell_type": "code",
      "execution_count": 6,
      "metadata": {
        "colab": {
          "base_uri": "https://localhost:8080/"
        },
        "id": "y_XQtbQ-mRZ3",
        "outputId": "342c9ff4-ef03-4557-e542-a964efbe0157"
      },
      "outputs": [
        {
          "output_type": "stream",
          "name": "stdout",
          "text": [
            "[PerceptronClassifier-01-Data.py:210326:#1] (Perceptron Classifier) Read Data >> \n",
            "\n",
            "input weights(Wa,Wb,Wc)(e.g.,0, 1, 0.5) >>0 1 0.5\n",
            "Weights= Wa= 0.0 Wb= 1.0 Wc= 0.5\n",
            "Data counts= 20\n",
            "###########  END OF PROGRAM   ############\n"
          ]
        }
      ],
      "source": [
        "\n",
        "#@@@@@@@@@@@@@@@@@@@@@@@@@@@@@@@@@@@@@@@@@@@@\n",
        "\n",
        "print(\"[PerceptronClassifier-03-Compute:#1] (Perceptron Classifier) Read Data >> \")\n",
        "input()\n",
        "      # [x1Val, x2Val, Label]\n",
        "Dat = [ [-8,1,'B'],  [-6,-1,'B'], [-5,-3,'B'], [-5,3,'B'], [-3,-2,'B'],\n",
        "        [-2,-1,'B'], [-2,2,'B'],  [0,-3,'B'],  [2,-2,'B'], [3,7,'A'],\n",
        "        [4,-4,'B'],  [4,9,'A'],   [6,4,'A'],   [6,8,'A'],  [7,-1,'A'],\n",
        "        [8,2,'A'],   [9,4,'A'],   [10,-5,'A'], [12,1,'A'], [13,3,'A']\n",
        "      ]\n",
        "\n",
        "\n",
        "\n",
        "Wa,Wb,Wc = input((\"input weights(Wa,Wb,Wc)(e.g.,0, 1, 0.5) >>\"    )).split()\n",
        "Wa = float(Wa)\n",
        "Wb = float(Wb)\n",
        "Wc = float(Wc)\n",
        " \n",
        "print(\"Weights >>\",\"Wa=\",Wa,\"Wb=\",Wb,\"Wc=\",Wc)\n",
        "    # slope -->  x2 = -w1/w3*x1 - w1/w3\n",
        "\n",
        "\n",
        "print(\"Data counts=\",len(Dat))\n",
        "print(\"###########  END OF PROGRAM   ############\")\n",
        "\n",
        "#//"
      ]
    },
    {
      "cell_type": "code",
      "source": [],
      "metadata": {
        "id": "ZR2lfw2eAEy3"
      },
      "execution_count": null,
      "outputs": []
    }
  ]
}