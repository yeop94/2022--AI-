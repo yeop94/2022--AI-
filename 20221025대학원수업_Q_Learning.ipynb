{
  "nbformat": 4,
  "nbformat_minor": 0,
  "metadata": {
    "colab": {
      "provenance": [],
      "authorship_tag": "ABX9TyOLpzDfldtb9enhojXqhaev",
      "include_colab_link": true
    },
    "kernelspec": {
      "name": "python3",
      "display_name": "Python 3"
    },
    "language_info": {
      "name": "python"
    }
  },
  "cells": [
    {
      "cell_type": "markdown",
      "metadata": {
        "id": "view-in-github",
        "colab_type": "text"
      },
      "source": [
        "<a href=\"https://colab.research.google.com/github/yeop94/2022--AI-/blob/main/20221025%EB%8C%80%ED%95%99%EC%9B%90%EC%88%98%EC%97%85_Q_Learning.ipynb\" target=\"_parent\"><img src=\"https://colab.research.google.com/assets/colab-badge.svg\" alt=\"Open In Colab\"/></a>"
      ]
    },
    {
      "cell_type": "markdown",
      "source": [
        "## Q-Learning 에서 Q의 뜻은 없다\n",
        "## Q - table을 사용.\n",
        "## 머신러닝 종류 중 강화학습에 해당 - 보상을 쫓아가는 알고리즘\n",
        "## Q-learning에서 기계학습의 결과 = Q-table\n",
        "\n"
      ],
      "metadata": {
        "id": "Sa7WQJpDkHUI"
      }
    },
    {
      "cell_type": "code",
      "execution_count": 10,
      "metadata": {
        "colab": {
          "base_uri": "https://localhost:8080/"
        },
        "id": "Mb6po21bivcF",
        "outputId": "cf703e81-ae8c-4916-a13b-38ca4f103519"
      },
      "outputs": [
        {
          "output_type": "stream",
          "name": "stdout",
          "text": [
            "[gmoon:QL-03-genPaths.py:210222:#1]  >> \n",
            "\n",
            "RT[]=\n",
            "[ \n",
            "[-1, -1, -1, -1, 0, -1]\n",
            "[-1, -1, -1, 0, -1, 100]\n",
            "[-1, -1, -1, 0, -1, -1]\n",
            "[-1, 0, 0, -1, 0, -1]\n",
            "[0, -1, -1, 0, -1, 100]\n",
            "[-1, 0, -1, -1, 0, 100]\n",
            "]\n",
            "QT[]=\n",
            "[ \n",
            "[0, 0, 0, 0, 0, 0]\n",
            "[0, 0, 0, 0, 0, 0]\n",
            "[0, 0, 0, 0, 0, 0]\n",
            "[0, 0, 0, 0, 0, 0]\n",
            "[0, 0, 0, 0, 0, 0]\n",
            "[0, 0, 0, 0, 0, 0]\n",
            "]\n",
            "\n",
            " ; list= [-1, -1, -1, -1, 0, -1]\n",
            "\n",
            "state = 0 next_nodes = [4]\n",
            "\n",
            "gen_Paths(); = ,pathNow =  [0, 4]  next_nodes =  [0, 3, 5] pathList = [[0, 4, 3], [0, 4, 5]]\n",
            "\n",
            "###########  END OF PROGRAM   ############\n"
          ]
        }
      ],
      "source": [
        "# [gmoon:QL-01-Data.py:210222:#1] \n",
        "#\n",
        "\n",
        "print(\"[gmoon:QL-03-genPaths.py:210222:#1]  >> \")\n",
        "input()\n",
        "\n",
        "            # 0    1    2    3    4    5\n",
        "RT     = [ [ -1,  -1,  -1,  -1,   0,   -1  ],    #0\n",
        "           [ -1,  -1,  -1,   0,  -1,  100  ],    #1\n",
        "           [ -1,  -1,  -1,   0,  -1,   -1  ],    #2\n",
        "           [ -1,   0,   0,  -1,   0,   -1  ],    #3\n",
        "           [  0,  -1,  -1,   0,  -1,  100  ],    #4\n",
        "           [ -1,   0,  -1,  -1,   0,  100  ]  ]  #5\n",
        "\n",
        "\n",
        "            # 0    1    2    3    4    5\n",
        "QT     = [ [  0,   0,   0,   0,   0,   0  ],    #0\n",
        "           [  0,   0,   0,   0,   0,   0  ],    #1\n",
        "           [  0,   0,   0,   0,   0,   0  ],    #2\n",
        "           [  0,   0,   0,   0,   0,   0  ],    #3\n",
        "           [  0,   0,   0,   0,   0,   0  ],    #4\n",
        "           [  0,   0,   0,   0,   0,   0  ]  ]  #5\n",
        "\n",
        "Goal = 5    # Goal; a constant\n",
        "\n",
        "#####  show_table()  #####\n",
        "def SHOW_Table(Table):\n",
        "  print(\"[ \")\n",
        "  for R in Table:\n",
        "      print(R)\n",
        "  print(\"]\")\n",
        "#def.show_table()\n",
        "\n",
        "######################    FIND_NEXT_NODES() ###############\n",
        "  # (e.g) RT[0] = [-1,-1,-1,-1,0,-1]\n",
        "  # result; (RT,0) -> next_nodes = [4]    # 함수를 만들 때 이렇게 이그잼플을 좀 붙여주는게 나중에 함수와 코드를 이해하기 좋다.\n",
        "  #(e.g) RT[4] = [0,-1,-1,0,-1,100]\n",
        "  # result; (RT,4) -> next_nodes = [0,3,5]\n",
        "\n",
        "def FIND_NEXT_NODES(RT,row):\n",
        "  list = RT[row]        # [0,-1,-1,0,-1,100]\n",
        "  print(\" ; list=\",list)\n",
        "  input()\n",
        "  col = 0\n",
        "  next_nodes = []\n",
        "  for L in list:\n",
        "    if (L != -1):\n",
        "      next_nodes.append(col)\n",
        "    col += 1\n",
        "\n",
        "  return next_nodes\n",
        "#def.find_next_nodes\n",
        "\n",
        "####################### GEN_PATHS()  #####################\n",
        "\n",
        " # (e.g) pathNow = [0,4], next_nodes=[0,3,5]\n",
        " # result; -> pathList = [ [0,4,3],[0,4,5] ]\n",
        "\n",
        "def GEN_PATHS(pathNow,next_nodes):\n",
        "  pathList = []\n",
        "  for N in next_nodes:\n",
        "    baseList = pathNow[:]          # pathNow 리스트를 내용복사하기;  e.g.. [0,4]\n",
        "    if N not in pathNow:           # next_nodes = [0,3,5]  -> N = 0,3,5\n",
        "      baseList.append(N)           # baseList = [0,4,3] , [0,4,5]\n",
        "      pathList.append(baseList)    #pathList = [[0,4,3] , [0,4,5]]\n",
        "  \n",
        "  return pathList     \n",
        "\n",
        "\n",
        "\n",
        "\n",
        "\n",
        "#####################  MAIN  ######################\n",
        "\n",
        "print(\"RT[]=\")\n",
        "SHOW_Table(RT)\n",
        "\n",
        "print(\"QT[]=\")\n",
        "SHOW_Table(QT)\n",
        "input()\n",
        "\n",
        "state = 0            #current state\n",
        "next_nodes = FIND_NEXT_NODES(RT,state)\n",
        "print(\"state =\",state,\"next_nodes =\",next_nodes)\n",
        "input()\n",
        "\n",
        "           ############ gen Paths    ##########\n",
        " # (e.g) pathNow = [0,4], next_nodes=[0,3,5]\n",
        " # result; -> pathList = [ [0,4,3],[0,4,5] ]\n",
        "pathNow = [0,4]\n",
        "next_nodes = [0,3,5]\n",
        "pathList = GEN_PATHS(pathNow,next_nodes)\n",
        "\n",
        "print(\"gen_Paths(); = ,pathNow = \",pathNow,\" next_nodes = \",next_nodes,\"pathList =\",pathList)\n",
        "input()\n",
        "\n",
        "print(\"###########  END OF PROGRAM   ############\")\n",
        "#//"
      ]
    },
    {
      "cell_type": "code",
      "source": [],
      "metadata": {
        "id": "8R4oduuZtfEB"
      },
      "execution_count": null,
      "outputs": []
    }
  ]
}